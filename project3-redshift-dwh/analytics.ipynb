{
 "cells": [
  {
   "cell_type": "code",
   "execution_count": 7,
   "metadata": {},
   "outputs": [],
   "source": [
    "import psycopg2\n",
    "import configparser\n",
    "config = configparser.ConfigParser()\n",
    "config.read('dwh.cfg')\n",
    "\n",
    "conn = psycopg2.connect(\"host={} dbname={} user={} password={} port={}\".format(*config['CLUSTER'].values()))\n",
    "cur = conn.cursor()"
   ]
  },
  {
   "cell_type": "markdown",
   "metadata": {},
   "source": [
    "# Count Records in Staging Events "
   ]
  },
  {
   "cell_type": "code",
   "execution_count": null,
   "metadata": {},
   "outputs": [],
   "source": [
    "cur.execute(\"\"\"\n",
    "    SELECT Count(*) \n",
    "    FROM   staging_events \n",
    "\"\"\"\n",
    ")\n",
    "cur.fetchall() \n"
   ]
  },
  {
   "cell_type": "markdown",
   "metadata": {},
   "source": [
    "# Count Records in Staging Songs "
   ]
  },
  {
   "cell_type": "code",
   "execution_count": 9,
   "metadata": {},
   "outputs": [
    {
     "output_type": "execute_result",
     "data": {
      "text/plain": "[(14896,)]"
     },
     "metadata": {},
     "execution_count": 9
    }
   ],
   "source": [
    "cur.execute(\"\"\"\n",
    "    SELECT Count(*) \n",
    "    FROM   staging_songs \"\"\"\n",
    ")\n",
    "cur.fetchall() "
   ]
  },
  {
   "cell_type": "markdown",
   "metadata": {},
   "source": [
    "# Top 10 songs by plays"
   ]
  },
  {
   "cell_type": "code",
   "execution_count": 10,
   "metadata": {},
   "outputs": [
    {
     "output_type": "execute_result",
     "data": {
      "text/plain": "[('Intro', 75),\n ('Home', 52),\n (\"You're The One\", 37),\n ('Smile', 20),\n ('Secrets', 17),\n ('Only One For Me', 17),\n ('Magic', 16),\n ('Hold On', 15),\n ('Outro', 14),\n ('the 224th day', 13)]"
     },
     "metadata": {},
     "execution_count": 10
    }
   ],
   "source": [
    "cur.execute(\"\"\"\n",
    "    SELECT s.title, \n",
    "        Count(*) AS play_count \n",
    "    FROM   songplays sp \n",
    "        JOIN songs s \n",
    "            ON sp.artist_id = s.artist_id \n",
    "    GROUP  BY s.title \n",
    "    ORDER  BY play_count DESC \n",
    "    LIMIT  10; \n",
    "\"\"\")\n",
    "cur.fetchall() "
   ]
  }
 ],
 "metadata": {
  "language_info": {
   "codemirror_mode": {
    "name": "ipython",
    "version": 3
   },
   "file_extension": ".py",
   "mimetype": "text/x-python",
   "name": "python",
   "nbconvert_exporter": "python",
   "pygments_lexer": "ipython3",
   "version": "3.7.4-final"
  },
  "orig_nbformat": 2,
  "kernelspec": {
   "name": "python37464bitudacityvenvd1d6ab21e5484dc99ec0677279d7dfb3",
   "display_name": "Python 3.7.4 64-bit ('udacity': venv)"
  }
 },
 "nbformat": 4,
 "nbformat_minor": 2
}